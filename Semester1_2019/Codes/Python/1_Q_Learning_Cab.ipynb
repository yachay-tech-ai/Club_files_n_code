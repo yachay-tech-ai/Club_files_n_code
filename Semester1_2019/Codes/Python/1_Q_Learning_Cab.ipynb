{
 "cells": [
  {
   "cell_type": "markdown",
   "metadata": {},
   "source": [
    "# Q-Learning Cab"
   ]
  },
  {
   "cell_type": "markdown",
   "metadata": {},
   "source": [
    "### Importing the libraries"
   ]
  },
  {
   "cell_type": "code",
   "execution_count": null,
   "metadata": {},
   "outputs": [],
   "source": [
    "import gym\n",
    "from time import sleep\n",
    "import numpy as np\n",
    "from random import uniform\n",
    "from IPython.display import clear_output"
   ]
  },
  {
   "cell_type": "markdown",
   "metadata": {},
   "source": [
    "### Training cab"
   ]
  },
  {
   "cell_type": "code",
   "execution_count": null,
   "metadata": {},
   "outputs": [],
   "source": [
    "env = gym.make(\"Taxi-v2\").env\n",
    "q_table = np.zeros([env.observation_space.n, env.action_space.n])\n",
    "# Parameters for Bellman Equation\n",
    "alpha = 0.1\n",
    "gamma = 0.6\n",
    "threshold = 0.1\n",
    "\n",
    "for i in range(1, 100001):\n",
    "    state = env.reset()\n",
    "    while True:\n",
    "        if uniform(0, 1) < threshold:\n",
    "            action = env.action_space.sample() # Choose a random action\n",
    "        else:\n",
    "            action = np.argmax(q_table[state]) # Choose an action based on Q-Table\n",
    "\n",
    "        next_state, reward, done, info = env.step(action) \n",
    "        old_value = q_table[state, action]\n",
    "        next_max = max(q_table[next_state])    \n",
    "        new_value = (1 - alpha) * old_value + alpha * (reward + gamma * next_max) # Apply Bellman Equation\n",
    "        q_table[state, action] = new_value # Update the Q-Table\n",
    "        state = next_state\n",
    "        \n",
    "        if done:\n",
    "            break\n",
    "        \n",
    "    if i % 10000 == 0:\n",
    "        print(f\"Training Episode: {i}\")\n",
    "\n",
    "print(\"Training finished.\")"
   ]
  },
  {
   "cell_type": "markdown",
   "metadata": {},
   "source": [
    "### Evaluating the performance of a random agent"
   ]
  },
  {
   "cell_type": "code",
   "execution_count": null,
   "metadata": {},
   "outputs": [],
   "source": [
    "total_steps, total_penalties = 0, 0\n",
    "episodes = 100\n",
    "\n",
    "for _ in range(episodes):\n",
    "    state = env.reset()\n",
    "    while True:\n",
    "        action = env.action_space.sample()\n",
    "        state, reward, done, info = env.step(action)\n",
    "\n",
    "        if reward == -10:\n",
    "            total_penalties += 1\n",
    "\n",
    "        total_steps += 1\n",
    "        if done:\n",
    "            break\n",
    "\n",
    "print(f\"Results after {episodes} episodes:\")\n",
    "print(f\"Average steps per episode: {total_steps / episodes}\")\n",
    "print(f\"Average penalties per episode: {total_penalties / episodes}\")"
   ]
  },
  {
   "cell_type": "markdown",
   "metadata": {},
   "source": [
    "### Evaluating the performance of a Q-Learning agent"
   ]
  },
  {
   "cell_type": "code",
   "execution_count": null,
   "metadata": {},
   "outputs": [],
   "source": [
    "total_steps, total_penalties = 0, 0\n",
    "episodes = 100\n",
    "\n",
    "for _ in range(episodes):\n",
    "    state = env.reset()\n",
    "    while True:\n",
    "        action = np.argmax(q_table[state])\n",
    "        state, reward, done, info = env.step(action)\n",
    "\n",
    "        if reward == -10:\n",
    "            total_penalties += 1\n",
    "\n",
    "        total_steps += 1\n",
    "        if done:\n",
    "            break\n",
    "\n",
    "print(f\"Results after {episodes} episodes:\")\n",
    "print(f\"Average steps per episode: {total_steps / episodes}\")\n",
    "print(f\"Average penalties per episode: {total_penalties / episodes}\")"
   ]
  },
  {
   "cell_type": "markdown",
   "metadata": {},
   "source": [
    "### Visualizing the results of Q-Learning"
   ]
  },
  {
   "cell_type": "code",
   "execution_count": null,
   "metadata": {},
   "outputs": [],
   "source": [
    "def printEnv(frames):\n",
    "    for frame in frames:\n",
    "        clear_output(wait=True)\n",
    "        print(frame.getvalue())\n",
    "        sleep(1)"
   ]
  },
  {
   "cell_type": "code",
   "execution_count": null,
   "metadata": {},
   "outputs": [],
   "source": [
    "state = env.reset()      \n",
    "frames = [] \n",
    "\n",
    "while True:\n",
    "    action = np.argmax(q_table[state])\n",
    "    state, reward, done, info = env.step(action)\n",
    "    frames.append(env.render(mode='ansi'))\n",
    "    if done:\n",
    "        break\n",
    "\n",
    "printEnv(frames)"
   ]
  }
 ],
 "metadata": {
  "kernelspec": {
   "display_name": "Python 3",
   "language": "python",
   "name": "python3"
  },
  "language_info": {
   "codemirror_mode": {
    "name": "ipython",
    "version": 3
   },
   "file_extension": ".py",
   "mimetype": "text/x-python",
   "name": "python",
   "nbconvert_exporter": "python",
   "pygments_lexer": "ipython3",
   "version": "3.6.6"
  }
 },
 "nbformat": 4,
 "nbformat_minor": 2
}
